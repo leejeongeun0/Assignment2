import pandas as pd
import seaborn as sns
import matplotlib.pyplot as plt
df = pd.read_csv('perfume.csv',sep=',')
subset = df[['brand','title','accords','rating_score','clsday','clsnight']]
seasons = df[['clswinter','clsspring','clssummer','clsautumn']]
sillage = df[['sillage_soft','sillage_moderate','sillage_heavy','sillage_enormous']]
print(subset.groupby('brand')['rating_score'].mean())
per = df.plot.scatter(x='clsday', y= 'clsnight')
sns.pairplot(seasons,
            diag_kind = 'kde',
            palette = 'dark')
sns.pairplot(sillage,
            diag_kind = 'kde',
            palette = ' pastel')